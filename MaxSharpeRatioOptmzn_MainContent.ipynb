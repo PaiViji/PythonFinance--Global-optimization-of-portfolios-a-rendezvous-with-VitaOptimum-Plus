{
 "cells": [
  {
   "cell_type": "markdown",
   "metadata": {},
   "source": [
    "### *Global  Optimization of Portfolios - a rendezvous with   VitaOptimum Plus* !"
   ]
  },
  {
   "cell_type": "markdown",
   "metadata": {},
   "source": [
    "![](MaxSharpeRatioOptmzn_HeaderImage.png)"
   ]
  },
  {
   "cell_type": "markdown",
   "metadata": {},
   "source": [
    "![](VOPlus_SharpeRatioOptmzn_HeaderImageCentrCompact.png)"
   ]
  },
  {
   "cell_type": "markdown",
   "metadata": {},
   "source": [
    "## 1.  Prologue"
   ]
  },
  {
   "cell_type": "markdown",
   "metadata": {},
   "source": [
    "**Portfolio Optimization** is a discipline that deals with the construction of portfolios from tradable assets such as stocks, bonds and securities, with the dual objectives of ***maximising the expected portfolio return*** and ***minimizing portfolio risk***. The problem models can turn complex when constraints, both linear/non-linear and  representing investor preferences, market norms, investment strategies, why even religious beliefs, are incorporated into them. \n",
    "\n",
    "Some of these optimization problem models have been  satisfactorily solved, if not efficiently,  using traditional methods. However, it needs to be realized that traditional methods despite their sophistication,   suffer from pitfalls such as dependence on  a suitable *starting point* or *initial point* in the search space from where the search for solution begins,  or the need to enumerate all sets of candidate solution sets to determine the best or optimal solution, which can be time consuming,  or  the quality or effectiveness of the optimal  solutions to the problems concerned. \n",
    "\n",
    "Again, there are problem models which are difficult to be solved by traditional methods. Fortunately,  heuristic methods inspired by nature have helped solve these complex problems to obtain acceptable or near-optimal solutions.  \n",
    "\n"
   ]
  },
  {
   "cell_type": "markdown",
   "metadata": {},
   "source": [
    "## 2.  Goal"
   ]
  },
  {
   "cell_type": "markdown",
   "metadata": {},
   "source": [
    "In this post, we discuss the solution of a fundamental portfolio optimization model, termed **Sharpe Ratio  based portfolio optimization**, which is a non-linear single objective constrained optimization problem.\n",
    "\n",
    "We solve the model using a traditional method viz., **Sequential Least Squares Quadratic Programming (SLSQP)** using a solver available in **SciPy**, a Python library.\n",
    "\n",
    "We also solve the same problem using **VitaOptimum Plus**,  a Python based non-traditional solver that employs cutting edge technologies of Artificial Intelligence, Evolutionary Computation, Swarm Intelligence and Advanced Statistics, to arrive at the global optimum. \n",
    "\n",
    "The quality of the optimal portfolios obtained by the two solvers are compared and analyzed.   \n"
   ]
  },
  {
   "cell_type": "markdown",
   "metadata": {},
   "source": [
    "## 3. Sharpe Ratio"
   ]
  },
  {
   "cell_type": "markdown",
   "metadata": {},
   "source": [
    " **Sharpe Ratio**, developed by Nobel Laureate William F Sharpe [SHA 66], is a measure of calculating risk adjusted return. It serves to help investors know about the returns on their investments relative to the risks they hold. The Sharpe Ratio is defined as"
   ]
  },
  {
   "cell_type": "markdown",
   "metadata": {},
   "source": [
    "![](MaxSharpeRatioOptmznEqn_1.png)\n",
    "<h5 align=\"right\">..........(1)</h5>\n"
   ]
  },
  {
   "cell_type": "markdown",
   "metadata": {},
   "source": [
    "where $r_x$ is the average rate of return on the investment $x$, $R_f$ is  the best available **risk free rate of return** and $\\sigma$ is the standard deviation of $r_x$, which denotes the risk on the investment. "
   ]
  },
  {
   "cell_type": "markdown",
   "metadata": {},
   "source": [
    "Higher the Sharpe Ratio, more is the excess returns over that of holding a risk free investment, relative to the increased volatility that the investment is exposed to. A Sharpe Ratio of 0, needless to say,  only denotes the investment to be risk-free or one that does not yield any excess return. In practice, while a Sharpe ratio of 1 marks the investment to be acceptable or good for investors, a value less than 1 grades the investment as  sub-optimal,  and values greater than 1 and moving towards 2 or 3, grade the investments as  highly superior. "
   ]
  },
  {
   "cell_type": "markdown",
   "metadata": {},
   "source": [
    "## 4.  Maximizing Sharpe Ratio"
   ]
  },
  {
   "cell_type": "markdown",
   "metadata": {},
   "source": [
    "Having understood the significance of the Sharpe Ratio, let us suppose an investor wishes to make an investment in  assets in such a way that the Sharpe Ratio of the portfolio would be the best possible or the maximum that can be ensured for that investment.  \n"
   ]
  },
  {
   "cell_type": "markdown",
   "metadata": {},
   "source": [
    "Let P be a portfolio comprising assets $A_1, A_2, ...A_N$, with $\\mu_1, \\mu_2, ...\\mu_N$ as the asset returns and $W_1, W_2, ...W_N$ as the weights. "
   ]
  },
  {
   "cell_type": "markdown",
   "metadata": {},
   "source": [
    "The portfolio return $r$ determined by a weighted summation of its individual asset returns is given by, $\\sum\\left({W_i.\\mu_i}\\right)$ and the risk is given by $\\sqrt{\\sum\\sum {W_i.W_j.\\sigma_{ij}} } $. (See **Lesson 1 Fundamentals of Risk and Return of a Portfolio** to know about risk and return of a portfolio).  "
   ]
  },
  {
   "cell_type": "markdown",
   "metadata": {},
   "source": [
    "To keep the discussion simple for now, let us suppose that  the investor decides to enforce only **basic constraints** on the portfolio. (See Sec. 5.2 of **Lesson 5 Mean Variance Optimization Model** to know about basic constraints).  \n",
    "  \n",
    "The mathematical model for the Sharpe Ratio based Portfolio Optimization is given by, "
   ]
  },
  {
   "cell_type": "markdown",
   "metadata": {},
   "source": [
    "![](MaxSharpeRatioOptmznEqn_2.png)\n",
    "<h5 align=\"right\">..........(2)</h5>"
   ]
  },
  {
   "cell_type": "markdown",
   "metadata": {},
   "source": [
    "The numerator of the objective function denotes the excess returns of the investment over that of a risk free asset $R_f$ and the denominator the risk of the investment. The objective is to maximize the Sharpe Ratio. The basic constraints indicate that the investor wishes to have a **fully invested** portfolio, in other words, invest 100% of the capital in the portfolio. "
   ]
  },
  {
   "cell_type": "markdown",
   "metadata": {},
   "source": [
    "## 5.  Solving the Sharpe Ratio Optimization Model using *scipy*"
   ]
  },
  {
   "cell_type": "markdown",
   "metadata": {},
   "source": [
    "To solve the Sharpe Ratio maximization model represented by (2), we make use of the **minimize** library function from **scipy.optimize** package of Python, adopting the *Sequential Least Squares Quadratic Programming* (SLSQP)method.  However, since the original objective function insists on maximization as opposed to minimization demanded by the **minimize** solver, the **principal of  duality** borrowed from Optimization Theory is employed to undertake the transformation. According to the principle,  \n"
   ]
  },
  {
   "cell_type": "markdown",
   "metadata": {},
   "source": [
    "![](MaxSharpeRatioOptmznEqn_3.png)\n",
    "<h5 align=\"right\">..........(3)</h5>"
   ]
  },
  {
   "cell_type": "markdown",
   "metadata": {},
   "source": [
    "The Python code for the function **MaximizeSharpeRatioOptimization**, which defines the objective function  and the basic constraints represented by equation (2),  is shown here. "
   ]
  },
  {
   "cell_type": "code",
   "execution_count": 21,
   "metadata": {},
   "outputs": [],
   "source": [
    "#function to undertake Sharpe Ratio maximization subject to \n",
    "#basic constraints of the portfolio\n",
    "\n",
    "#Solver uses optimize library function from scipy that employs\n",
    "#SLSQP  (Sequential Leas Squares Quadratic Programming) method to solve the\n",
    "#non-linear single objective constrained optimization problem\n",
    "\n",
    "#dependencies\n",
    "import numpy as np\n",
    "from scipy import optimize \n",
    "\n",
    "def MaximizeSharpeRatioOptmzn(MeanReturns, CovarReturns, RiskFreeRate, PortfolioSize):\n",
    "    \n",
    "    # define maximization of Sharpe Ratio using principle of duality\n",
    "    def  f(x, MeanReturns, CovarReturns, RiskFreeRate, PortfolioSize):\n",
    "        funcDenomr = np.sqrt(np.matmul(np.matmul(x, CovarReturns), x.T) )\n",
    "        funcNumer = np.matmul(np.array(MeanReturns),x.T)-RiskFreeRate\n",
    "        func = -(funcNumer / funcDenomr)\n",
    "        return func\n",
    "\n",
    "    #define equality constraint representing fully invested portfolio\n",
    "    def constraintEq(x):\n",
    "        A=np.ones(x.shape)\n",
    "        b=1\n",
    "        constraintVal = np.matmul(A,x.T)-b \n",
    "        return constraintVal\n",
    "    \n",
    "    \n",
    "    #define bounds and other parameters\n",
    "    xinit=np.repeat(0.33, PortfolioSize)\n",
    "    cons = ({'type': 'eq', 'fun':constraintEq})\n",
    "    lb = 0.0\n",
    "    ub = 1.0\n",
    "    bnds = tuple([(lb,ub) for x in xinit])\n",
    "    \n",
    "    #invoke minimize solver\n",
    "    opt = optimize.minimize (f, x0 = xinit, args = (MeanReturns, CovarReturns,\\\n",
    "                             RiskFreeRate, PortfolioSize), method = 'SLSQP',  \\\n",
    "                             bounds = bnds, constraints = cons, tol = 10**-3)\n",
    "    \n",
    "    return opt\n",
    "    "
   ]
  },
  {
   "cell_type": "markdown",
   "metadata": {},
   "source": [
    "The Sharpe Ratio optimization requires the computation of risk and return of the portfolio, for which asset returns are required. Function  **StockReturnsComputing** which  computes the asset returns is illustrated below:"
   ]
  },
  {
   "cell_type": "code",
   "execution_count": 22,
   "metadata": {},
   "outputs": [],
   "source": [
    "# function computes asset returns \n",
    "def StockReturnsComputing(StockPrice, Rows, Columns):\n",
    "    \n",
    "    import numpy as np\n",
    "    \n",
    "    StockReturn = np.zeros([Rows-1, Columns])\n",
    "    for j in range(Columns):        # j: Assets\n",
    "        for i in range(Rows-1):     # i: Daily Prices\n",
    "            StockReturn[i,j]=((StockPrice[i+1, j]-StockPrice[i,j])/StockPrice[i,j])* 100\n",
    "\n",
    "    return StockReturn"
   ]
  },
  {
   "cell_type": "markdown",
   "metadata": {},
   "source": [
    "## 6.  Case Study"
   ]
  },
  {
   "cell_type": "markdown",
   "metadata": {},
   "source": [
    "Let us suppose that an investor decides to invest in a portfolio comprising the  following  Dow stocks. While a typical portfolio is a prudent combination of assets comprising equities, bonds, currencies etc., as dictated by the investor's risk appetite, we chose to discuss an equity based portfolio only to keep the narrative simple.  \n",
    " \n",
    "The following are the Dow stocks that has interested the investor:\n",
    "\n",
    "{Coca-Cola (KO), United Health (UNH), Walt Disney (DIS), IBM (IBM), Cisco (CSCO), JPMorgan Chase (JPM), Goldman Sachs (GS), Walgreens Boots Alliance (WBA), Apple (AAPL), Home Depot (HD), American Express (AXP), McDonald's (MCD), Merck (MRK), Boeing (BA), Caterpillar (CAT)}       \n",
    "\n",
    "The investor desires to obtain the optimal portfolio set that would yield the maximal Sharpe Ratio.  The objective therefore,  is to find  the optimal weights that will ensure maximal Sharpe Ratio for the portfolio. In other words, the investor wishes to know what proportion of capital must be invested in each of the the stocks so that the portfolio yields maximal Sharpe ratio.\n",
    "\n",
    "The following Python code reads the dataset DJIA_Apr112014_Apr112019_kpf1.csv (Dow 30: April 11 2014 -April 11 2019) concerned, computes the stock returns using the Python function **StockReturnsComputing** and obtains the mean returns and the variance-covariance matrix of returns. \n"
   ]
  },
  {
   "cell_type": "code",
   "execution_count": 23,
   "metadata": {},
   "outputs": [
    {
     "name": "stdout",
     "output_type": "stream",
     "text": [
      "Asset labels of portfolio: \n",
      " ['AAPL', 'AXP', 'BA', 'CAT', 'CSCO', 'DIS', 'GS', 'HD', 'IBM', 'JPM', 'KO', 'MCD', 'MRK', 'UNH', 'WBA']\n",
      "\n",
      "Mean Returns:\n",
      " [ 0.09   0.029  0.1    0.039  0.081  0.04   0.033  0.085 -0.016  0.06\n",
      "  0.019  0.057  0.036  0.095 -0.002]\n",
      "\n",
      "Variance-Covariance Matrix of Returns:\n",
      " [[2.375 0.672 0.962 1.042 0.999 0.68  0.954 0.726 0.709 0.825 0.306 0.458\n",
      "  0.534 0.774 0.697]\n",
      " [0.672 1.648 0.8   0.95  0.7   0.569 1.065 0.658 0.663 1.001 0.307 0.35\n",
      "  0.556 0.718 0.667]\n",
      " [0.962 0.8   2.288 1.31  0.89  0.716 1.066 0.747 0.777 0.977 0.381 0.472\n",
      "  0.578 0.745 0.679]\n",
      " [1.042 0.95  1.31  2.733 1.041 0.688 1.321 0.796 0.885 1.169 0.358 0.455\n",
      "  0.616 0.72  0.681]\n",
      " [0.999 0.7   0.89  1.041 1.789 0.713 0.927 0.724 0.817 0.909 0.362 0.477\n",
      "  0.647 0.656 0.707]\n",
      " [0.68  0.569 0.716 0.688 0.713 1.35  0.773 0.586 0.574 0.717 0.302 0.368\n",
      "  0.466 0.557 0.631]\n",
      " [0.954 1.065 1.066 1.321 0.927 0.773 2.114 0.795 0.803 1.554 0.303 0.467\n",
      "  0.705 0.82  0.819]\n",
      " [0.726 0.658 0.747 0.796 0.724 0.586 0.795 1.39  0.619 0.753 0.343 0.472\n",
      "  0.487 0.659 0.689]\n",
      " [0.709 0.663 0.777 0.885 0.817 0.574 0.803 0.619 1.632 0.767 0.372 0.391\n",
      "  0.576 0.564 0.534]\n",
      " [0.825 1.001 0.977 1.169 0.909 0.717 1.554 0.753 0.767 1.702 0.324 0.483\n",
      "  0.675 0.761 0.717]\n",
      " [0.306 0.307 0.381 0.358 0.362 0.302 0.303 0.343 0.372 0.324 0.806 0.36\n",
      "  0.384 0.31  0.355]\n",
      " [0.458 0.35  0.472 0.455 0.477 0.368 0.467 0.472 0.391 0.483 0.36  1.086\n",
      "  0.402 0.43  0.433]\n",
      " [0.534 0.556 0.578 0.616 0.647 0.466 0.705 0.487 0.576 0.675 0.384 0.402\n",
      "  1.504 0.615 0.64 ]\n",
      " [0.774 0.718 0.745 0.72  0.656 0.557 0.82  0.659 0.564 0.761 0.31  0.43\n",
      "  0.615 1.722 0.78 ]\n",
      " [0.697 0.667 0.679 0.681 0.707 0.631 0.819 0.689 0.534 0.717 0.355 0.433\n",
      "  0.64  0.78  2.554]]\n"
     ]
    }
   ],
   "source": [
    "#obtain mean and variance-covariance matrix of returns for the portfolio\n",
    "\n",
    "#Dependencies\n",
    "import numpy as np\n",
    "import pandas as pd\n",
    "\n",
    "\n",
    "\n",
    "#input portfolio dataset comprising 15 stocks\n",
    "StockFileName = 'DJIA_Apr112014_Apr112019_kpf1.csv'\n",
    "Rows = 1259  #excluding header\n",
    "Columns = 15  #excluding date\n",
    "\n",
    "#read stock prices \n",
    "df = pd.read_csv(StockFileName,  nrows= Rows)\n",
    "\n",
    "#extract asset labels\n",
    "assetLabels = df.columns[1:Columns+1].tolist()\n",
    "print('Asset labels of portfolio: \\n', assetLabels)\n",
    "\n",
    "#read asset prices data\n",
    "StockData = df.iloc[0:, 1:]\n",
    "\n",
    "#compute asset returns\n",
    "arStockPrices = np.asarray(StockData)\n",
    "[Rows, Cols]=arStockPrices.shape\n",
    "arReturns = StockReturnsComputing(arStockPrices, Rows, Cols)\n",
    "\n",
    "#set precision for printing results\n",
    "np.set_printoptions(precision=3, suppress = True)\n",
    "\n",
    "#compute mean returns and variance covariance matrix of returns\n",
    "meanReturns = np.mean(arReturns, axis = 0)\n",
    "covReturns = np.cov(arReturns, rowvar=False)\n",
    "print('\\nMean Returns:\\n', meanReturns)\n",
    "print('\\nVariance-Covariance Matrix of Returns:\\n', covReturns)\n"
   ]
  },
  {
   "cell_type": "markdown",
   "metadata": {},
   "source": [
    "The annual average risk free rate of return in USA during April 2019 was 3%. The daily risk free rate is computed  as   \n"
   ]
  },
  {
   "cell_type": "markdown",
   "metadata": {},
   "source": [
    "![](MaxSharpeRatioOptmznEqn_4.png)\n",
    "<h5 align=\"right\">..........(4)</h5>\n"
   ]
  },
  {
   "cell_type": "markdown",
   "metadata": {},
   "source": [
    "The following Python code computes the maximal Sharpe Ratio for  the portfolio. "
   ]
  },
  {
   "cell_type": "code",
   "execution_count": 24,
   "metadata": {},
   "outputs": [
    {
     "name": "stdout",
     "output_type": "stream",
     "text": [
      "\n",
      "Risk free rate (daily %): 0.008\n",
      "     fun: -0.08355172232582905\n",
      "     jac: array([-0.   ,  0.033, -0.008,  0.044, -0.003,  0.015,  0.046, -0.013,\n",
      "        0.079,  0.012,  0.012, -0.008,  0.014, -0.016,  0.067])\n",
      " message: 'Optimization terminated successfully.'\n",
      "    nfev: 85\n",
      "     nit: 5\n",
      "    njev: 5\n",
      "  status: 0\n",
      " success: True\n",
      "       x: array([0.137, 0.   , 0.177, 0.   , 0.122, 0.   , 0.   , 0.191, 0.   ,\n",
      "       0.012, 0.   , 0.137, 0.   , 0.225, 0.   ])\n",
      "Maximal Sharpe Ratio:  [[1.26]] \n",
      "Annualized Risk (%):   [[14.749]] \n",
      "Annualized Expected Portfolio Return(%):   [21.584]\n",
      "\n",
      "Optimal weights (%):\n",
      " [[13.694]\n",
      " [ 0.   ]\n",
      " [17.744]\n",
      " [ 0.   ]\n",
      " [12.151]\n",
      " [ 0.   ]\n",
      " [ 0.   ]\n",
      " [19.058]\n",
      " [ 0.   ]\n",
      " [ 1.151]\n",
      " [ 0.   ]\n",
      " [13.654]\n",
      " [ 0.   ]\n",
      " [22.547]\n",
      " [ 0.   ]]\n"
     ]
    }
   ],
   "source": [
    "#obtain maximal Sharpe Ratio for  the portfolio  of Dow stocks\n",
    "\n",
    "#set portfolio size\n",
    "portfolioSize = Columns\n",
    "\n",
    "#set risk free asset rate of return\n",
    "Rf=3  # April 2019 average risk  free rate of return in USA approx 3%\n",
    "annRiskFreeRate = Rf/100\n",
    "\n",
    "#compute daily risk free rate in percentage\n",
    "r0 = (np.power((1 + annRiskFreeRate),  (1.0 / 360.0)) - 1.0) * 100 \n",
    "print('\\nRisk free rate (daily %): ', end=\"\")\n",
    "print (\"{0:.3f}\".format(r0)) \n",
    "\n",
    "#initialization\n",
    "xOptimal =[]\n",
    "minRiskPoint = []\n",
    "expPortfolioReturnPoint =[]\n",
    "maxSharpeRatio = 0\n",
    "\n",
    "#compute maximal Sharpe Ratio and optimal weights\n",
    "result = MaximizeSharpeRatioOptmzn(meanReturns, covReturns, r0, portfolioSize)\n",
    "print(result)\n",
    "xOptimal.append(result.x)\n",
    "\n",
    "    \n",
    "#compute risk returns and max Sharpe Ratio of the optimal portfolio   \n",
    "xOptimalArray = np.array(xOptimal)\n",
    "Risk = np.matmul((np.matmul(xOptimalArray,covReturns)), np.transpose(xOptimalArray))\n",
    "expReturn = np.matmul(np.array(meanReturns),xOptimalArray.T)\n",
    "annRisk =   np.sqrt(Risk*251) \n",
    "annRet = 251*np.array(expReturn) \n",
    "maxSharpeRatio = (annRet-Rf)/annRisk \n",
    "\n",
    "#set precision for printing results\n",
    "np.set_printoptions(precision=3, suppress = True)\n",
    "\n",
    "\n",
    "#display results\n",
    "print('Maximal Sharpe Ratio: ', maxSharpeRatio, '\\nAnnualized Risk (%):  ', \\\n",
    "      annRisk, '\\nAnnualized Expected Portfolio Return(%):  ', annRet)\n",
    "print('\\nOptimal weights (%):\\n',  xOptimalArray.T*100 )"
   ]
  },
  {
   "cell_type": "markdown",
   "metadata": {},
   "source": [
    "The output shows that the maximal Sharpe Ratio attainable for the portfolio is 1.26 which is good,  going by practical standards. The annual expected portfolio return is 21.584% against an annualized risk of 14.749%. To achieve this, the optimal capital allocations on the assets of the portfolio are as follows:  \n",
    "\n",
    "['AAPL': 13. 694%] , ['BA': 17.744%], ['CSCO': 12.151%],  ['HD': 19.058%], ['JPM': 1.151%],  ['MCD': 13.654%], ['UNH': 22.547%].  \n",
    "  \n",
    "No investments need  be made in the rest of the assets of the portfolio since the optimal weights arrived at for these assets are 0.  \n",
    "However, if the investor desires to invest in all the assets in the portfolio, with the weights distributed across all the assets in the portfolio, all that the investor needs to do is to  redefine the bounds constraint of (2) as, $0\\lt W_i\\lt 1$ and run the **scipy**  solver over the optimization model."
   ]
  },
  {
   "cell_type": "markdown",
   "metadata": {},
   "source": [
    "##  7. Solving the Sharpe Ratio Optimization Model using                     *VitaOptimum Plus*"
   ]
  },
  {
   "cell_type": "markdown",
   "metadata": {},
   "source": [
    "VitaOptimum Plus [VIT, 2019]  is a state-of-the-art global optimization solver encompassing the cutting edge technologies of Artificial Intelligence, Evolutionary Computation, Swarm Intelligence and Advanced Statistics,  to efficiently tackle constrained linear and non-linear models. \n",
    "The Sharpe ratio based  portfolio optimization model described in equation (2)and employing the **Ccs** (**C**ontinuous **c**onstrained **s**olver)  Python class from **vitaoptimum.voplus.ccs** package is described below.  "
   ]
  },
  {
   "cell_type": "code",
   "execution_count": 25,
   "metadata": {},
   "outputs": [],
   "source": [
    "import ctypes\n",
    "import numpy as np\n",
    "import pandas as pd\n",
    "\n",
    "from vitaoptimum.voplus.ccs import Ccs\n",
    "\n",
    "#global maximum Sharpe Ratio optimization solver wrapper function\n",
    "def GlobalMaxSharpeRatioOptmzn(MeanReturns, CovarReturns, RiskFreeRate, PortfolioSize):\n",
    "    \n",
    "    \n",
    "    # define maximization of Sharpe Ratio using principle of duality\n",
    "   \n",
    "    def fobj(x, g, h):\n",
    "    \n",
    "        h[0]=sum(x)-1.0 \n",
    "        funcDenomr = np.sqrt(np.matmul(np.matmul(x, CovarReturns), x.T) )\n",
    "        funcNumer = np.matmul(np.array(MeanReturns),x.T)-RiskFreeRate\n",
    "        func = -(funcNumer / funcDenomr)\n",
    "        return func\n",
    "    \n",
    "    \n",
    "    # dimension of the problem and constraints\n",
    "    dim = PortfolioSize  # problem dimension\n",
    "    qmeasures = np.zeros (4, dtype = ctypes.c_double)\n",
    "    nh = 1  # equality constraint dimension [ h(x) = 0 ]\n",
    "    ng = 0  # non equality constraint dimension [ g(x) <= 0 ]\n",
    "\n",
    "\n",
    "    # set boundary constraints to [0, 1]\n",
    "    low = np.zeros(dim, dtype=ctypes.c_double) + [0.001]\n",
    "    high = np.zeros(dim, dtype=ctypes.c_double) + [1.0]\n",
    "\n",
    "    solver = Ccs(fobj=fobj,  # objective function with constraints\n",
    "                 dim=dim, ng=ng, nh=nh,  # dimensions\n",
    "                 low=low, high=high, qmeasures = qmeasures) # boundary constraints\n",
    "\n",
    "    results = solver.run()\n",
    "    \n",
    "    \n",
    "    return results\n"
   ]
  },
  {
   "cell_type": "markdown",
   "metadata": {},
   "source": [
    "The  optimal weights corresponding to the portfolio of Dow's stocks discussed in Sec. 6 Case Study, is shown below. "
   ]
  },
  {
   "cell_type": "code",
   "execution_count": 26,
   "metadata": {},
   "outputs": [
    {
     "name": "stdout",
     "output_type": "stream",
     "text": [
      "Continuous Constrained Global Optimization Method Result:\n",
      "Is converged: True\n",
      "\n",
      "Best function: -0.07615443410286507\n",
      "Best solution: [0.1161548108071617    0.01038284125499241   0.08436882954464242\n",
      " 0.003444279712321353  0.00627269742082026   0.0012255520606934869\n",
      " 0.001870205139497853  0.19377141033854597   0.001058356094975316\n",
      " 0.008633988856575289  0.17893332696578718   0.06645092573900446\n",
      " 0.0047187719654376995 0.311317664974979     0.012273123861193546 ]\n",
      "\n",
      "Quality Measures:\n",
      "       Delta: 1.0588555827514834e-05\n",
      "    Diameter: 0.0018545737798590046\n",
      "   Deviation: 9.111718135881217e-06\n",
      "  Evaluation: 9286\n",
      "Best constraint values: [-0.00012321526337199986]\n",
      "optimum:  [0.1161548108071617    0.01038284125499241   0.08436882954464242\n",
      " 0.003444279712321353  0.00627269742082026   0.0012255520606934869\n",
      " 0.001870205139497853  0.19377141033854597   0.001058356094975316\n",
      " 0.008633988856575289  0.17893332696578718   0.06645092573900446\n",
      " 0.0047187719654376995 0.311317664974979     0.012273123861193546 ]\n"
     ]
    }
   ],
   "source": [
    "#compute optimal weights and the globally maximal Sharpe Ratio\n",
    "globlOptimumresult = GlobalMaxSharpeRatioOptmzn(meanReturns, covReturns, r0, portfolioSize)\n",
    "globlOptimumresult.print()\n",
    "xOptimal=globlOptimumresult.solution\n",
    "fitness = globlOptimumresult.best_fobj\n",
    "print (\"optimum: \", xOptimal)\n",
    "\n"
   ]
  },
  {
   "cell_type": "markdown",
   "metadata": {},
   "source": [
    "The daily and annualized expected portfolio return and the daily and annualized portfolio risk, have been shown below. **maxSharpeRatio** which represents the globally maximum Sharpe ratio has been computed using the formula shown in equation (1).  "
   ]
  },
  {
   "cell_type": "code",
   "execution_count": 27,
   "metadata": {},
   "outputs": [
    {
     "name": "stdout",
     "output_type": "stream",
     "text": [
      "\n",
      " Maximal Sharpe Ratio: 1.14\n",
      "\n",
      " Annualized Risk 13.67 %\n",
      "\n",
      " Annualized Expected Portfolio Return 18.56 %\n",
      "\n",
      " Optimal weights (%):\n",
      " [11.62  1.04  8.44  0.34  0.63  0.12  0.19 19.38  0.11  0.86 17.89  6.65\n",
      "  0.47 31.13  1.23]\n"
     ]
    }
   ],
   "source": [
    "#compute risk returns and max Sharpe Ratio of the VitaOptimum Plus optimal portfolio\n",
    "\n",
    "xOptimalArray = np.array(xOptimal)\n",
    "Risk = np.matmul((np.matmul(xOptimalArray,covReturns)), np.transpose(xOptimalArray))\n",
    "expReturn = np.matmul(np.array(meanReturns),xOptimalArray.T)\n",
    "annRisk =   np.sqrt(Risk*251) \n",
    "annRet = 251*np.array(expReturn) \n",
    "maxSharpeRatio = (annRet-Rf)/annRisk \n",
    "\n",
    "\n",
    "#set precision for printing results\n",
    "np.set_printoptions(precision=2, suppress = True)\n",
    "\n",
    "#display results\n",
    "print('\\n Maximal Sharpe Ratio: %4.2f' % maxSharpeRatio)\n",
    "print('\\n Annualized Risk %5.2f' % (annRisk), '%')\n",
    "print('\\n Annualized Expected Portfolio Return %5.2f' % (annRet), '%')\n",
    "print('\\n Optimal weights (%):\\n',  xOptimalArray.T*100 )\n",
    "\n"
   ]
  },
  {
   "cell_type": "markdown",
   "metadata": {},
   "source": [
    "Unlike traditional methods, which yield  a unique optimal solution to the problem model concerned  as decided by the initial point, VitaOptimum Plus, following heuristics exhibits the potential to obtain multiple near-optimal solutions,  during  different runs.   This characteristic of heuristic algorithms  is a boon that can be taken advantage of, while deciding on an effective or practical solution to the problem concerned, from the choices available. \n",
    " "
   ]
  },
  {
   "cell_type": "markdown",
   "metadata": {},
   "source": [
    "## 8. SciPy solver  Vs VitaOptimum Plus solver"
   ]
  },
  {
   "cell_type": "markdown",
   "metadata": {},
   "source": [
    "The quality of the optimal portfolios obtained by the **minimize** solver of SciPy  and **Ccs** solver of VitaOptimum Plus,  were studied over the following experiments / observations. "
   ]
  },
  {
   "cell_type": "markdown",
   "metadata": {},
   "source": [
    "###  8.1     Experiment 1:  Diversification Ratios of the optimal portfolios"
   ]
  },
  {
   "cell_type": "markdown",
   "metadata": {},
   "source": [
    "Diversification involves investments in different assets or asset classes or markets. A portfolio that comprises such a diversified set of securities can go a long way in mitigating risk since the securities would react differently to market events. \n",
    "\n",
    "A **Diversification Index** quantifies diversification. There are several diversification indices discussed in the literature. **Diversification Ratio** proposed and patented by Yves Choueifaty in 2008 [CHO 08, CHO 13], is a diversification index of recent origin,  built on the inter-dependence between assets of a portfolio. Diversification Ratio is the *ratio of the weighted sum of individual asset volatilities to the portfolio's volatility*. \n"
   ]
  },
  {
   "cell_type": "markdown",
   "metadata": {},
   "source": [
    "Let N be the number of assets in the  portfolio spanning different  asset classes or belonging to a specific class. Let $(\\bar{w}=(w_1,w_2,...w_N) )$   be the weights or the proportion of capital to be invested in individual assets in the portfolio and $\\bar{w}'$ its transpose. Let $(\\bar{\\sigma}=(\\sigma_1,\\sigma_2,...\\sigma_N))$ be the standard deviations of returns on the assets and  _V_,  the variance-covariance matrix of returns on the assets. The Diversification Ratio of a portfolio is given as follows:"
   ]
  },
  {
   "cell_type": "markdown",
   "metadata": {},
   "source": [
    "![](MaxSharpeRatioOptmznEqn_5.png)\n",
    "<h5 align=\"right\">..........(5)</h5>"
   ]
  },
  {
   "cell_type": "markdown",
   "metadata": {},
   "source": [
    "**A portfolio that is *most diversified* would yield the *maximal Diversification Ratio*.** "
   ]
  },
  {
   "cell_type": "markdown",
   "metadata": {},
   "source": [
    "The following Python code computes the diversification ratios of the optimal portfolios whose weights, variance-covariance matrix and standard deviations of individual asset returns are known.\n",
    "\n",
    "(Executing the code as it appears in the following cell,  obtains the Diversification Ratio of the portfolio optimized by the VitaOptimum Plus Ccs solver. The code can be used to obtain the Diversification Ratio of the scipy solver obtained portfolio too.) "
   ]
  },
  {
   "cell_type": "code",
   "execution_count": 28,
   "metadata": {},
   "outputs": [
    {
     "name": "stdout",
     "output_type": "stream",
     "text": [
      "\n",
      " Diversification Ratio 1.44\n"
     ]
    }
   ],
   "source": [
    "# compute diversification ratio of the optimal portfolio\n",
    "AssetWeights = xOptimalArray\n",
    "PortfolioRisk = np.sqrt(np.matmul((np.matmul(AssetWeights,\\\n",
    "                             covReturns)), np.transpose(AssetWeights)))\n",
    "\n",
    "AssetRisk = np.sqrt(np.diagonal(covReturns))\n",
    "PortfolioDivRatio = sum(np.multiply(AssetRisk, AssetWeights))/PortfolioRisk\n",
    "print(\"\\n Diversification Ratio %4.2f\" % PortfolioDivRatio)"
   ]
  },
  {
   "cell_type": "markdown",
   "metadata": {},
   "source": [
    "Table 1 illustrates the maximal Sharpe Ratio, Annualized Risk(%), Expected Portfolio Return (%) and Diversification Ratio of the optimal portfolio obtained by SciPy and VitaOptimum Plus solvers. \n",
    "\n",
    "While SciPy solver delivers a unique optimal solution, VitaOptimum Plus delivers multiple solutions during different runs.\n",
    "\n",
    "A choice of optimal portfolios delivered by VitaOptimum Plus solver during multiple runs and selected by different investors based on their risk appetites,   in the background of maximal Sharpe Ratios of the portfolios,  have been shown in the table. It can be seen that some investors have opted for minimal risk or maximal diversification ratio portfolios,  while others have opted for maximal return portfolios. The fact that VitaOptimum Plus accommodates such choices due to its potential to deliver   multiple optimal solutions, contributes to its broad based practical appeal and successful application. "
   ]
  },
  {
   "cell_type": "markdown",
   "metadata": {},
   "source": [
    "![](MaxSharpeRatioOptmzn_Table1.png)"
   ]
  },
  {
   "cell_type": "markdown",
   "metadata": {},
   "source": [
    "![](MaxSharpeRatioOptmznTable1.png)"
   ]
  },
  {
   "cell_type": "markdown",
   "metadata": {},
   "source": [
    "### 8.2     Experiment 2:   Percentage Contributions to Portfolio Risk "
   ]
  },
  {
   "cell_type": "markdown",
   "metadata": {},
   "source": [
    "In this experiment,  the percentage contributions to portfolio risk by individual assets in the optimal portfolios,  obtained by SciPy's *minimize* solver and VitaOptimum Plus's Ccs solver were observed. "
   ]
  },
  {
   "cell_type": "markdown",
   "metadata": {},
   "source": [
    "The  **Marginal Contribution to Risk**  $\\bar{m}$ is given by,\n",
    "\n",
    "\\begin{equation}\n",
    "\\bar{m}=(m_1,m_2,...m_N)'=-\\frac{ V.\\bar{w'}} { \\sqrt{ \\bar{w'}. V.\\bar{w}}} \n",
    "\\end{equation}\n",
    "<h5 align=\"right\">..........(6)</h5>\n",
    "\n",
    "and $\\sigma_P$, the  **portfolio risk** is given by,\n",
    "\n",
    "\\begin{equation}\n",
    "\\sigma_P= \\sqrt{ \\bar{w'}. V.\\bar{w}} \n",
    "\\end{equation}\n",
    "<h5 align=\"right\">..........(7)</h5>\n"
   ]
  },
  {
   "cell_type": "markdown",
   "metadata": {},
   "source": [
    "The **Absolute Contributions to Total Risk**  is given by\n",
    "\\begin{equation}\n",
    "w_i.m_i\n",
    "\\end{equation}\n",
    "<h5 align=\"right\">..........(8)</h5>\n"
   ]
  },
  {
   "cell_type": "markdown",
   "metadata": {},
   "source": [
    "and \n",
    " **Percentage contributions to Total Risk**  is  given by\n",
    "\n",
    "\\begin{equation}\n",
    "\\frac{ w_i.m_i} { \\sum{w_i.m_i }}\n",
    "\\end{equation}\n",
    "<h5 align=\"right\">..........(9)</h5>"
   ]
  },
  {
   "cell_type": "markdown",
   "metadata": {},
   "source": [
    "The python function to compute the percentage contributions to total risk is given below. Here variable mcr represents the marginal contribution to risk computed for all the assets in the portfolio. \n",
    "The function needs to be executed over the respective inputs viz., variance-covariance matrix of asset returns, optimal weights and portfolio risk, of the respective portfolios obtained by the two different solvers. "
   ]
  },
  {
   "cell_type": "code",
   "execution_count": 29,
   "metadata": {},
   "outputs": [],
   "source": [
    "def totalcontribrisk(covReturns, AssetWeights, PortfolioRisk):\n",
    "    mcr = np.matmul(covReturns, np.transpose(AssetWeights)) / PortfolioRisk\n",
    "    tcr = np.around(((np.multiply(mcr, AssetWeights)/PortfolioRisk)),decimals =3) \n",
    "    percenttcr = np.asfarray(tcr, float)*100\n",
    "    return (percenttcr)"
   ]
  },
  {
   "cell_type": "markdown",
   "metadata": {},
   "source": [
    "Fig. 1 and Fig. 2 illustrate the respective Percentage contributions to total risk computed for the the respective optimal portfolios obtained by the two solvers.  "
   ]
  },
  {
   "cell_type": "markdown",
   "metadata": {},
   "source": [
    "![](MaxSharpeRatioOptmzn_Fig1.png)\n",
    "<h4 align=\"center\">Fig.1  SciPy minimize solver portfolio : Percentage Contributions to portfolio  risk <h4/> "
   ]
  },
  {
   "cell_type": "markdown",
   "metadata": {},
   "source": [
    "![](MaxSharpeRatioOptmzn_Fig2.png)\n",
    "<h4 align=\"center\">Fig. 2  VitaOptimum Plus Ccs  solver portfolio : Percentage Contributions to portfolio  risk  <h4/> "
   ]
  },
  {
   "cell_type": "markdown",
   "metadata": {},
   "source": [
    "### 8.3     Observation:   Optimal Asset Allocation"
   ]
  },
  {
   "cell_type": "markdown",
   "metadata": {},
   "source": [
    "The optimal asset allocation represented by the optimal weights and arrived at by SciPy's minimize solver and VitaOptimum Plus's Ccs solver have been shown in Fig (3) and Fig. (4). \n",
    "\n",
    "It can be seen that for a Maximal Sharpe Ratio of 1.26 and Diversification Ratio of 1.42, the SciPy solver yields an optimal portfolio where eight of the 15 stocks selected by the investor have been excluded from investing (zero weights), which may not be acceptable to the investor. The practicality of the optimal solution given the investor's preference,  leaves much to be desired. \n",
    "\n",
    "On the other hand, VitaOptimum Plus's Ccs solver is able to obtain multifarious optimal asset allocations to appeal to the investors' preferences. Fig. (4) illustrates one such  optimal asset allocaton for a portfolio choice made by an investor opting for minimal risk. It can be seen that the allocation of weights are distributed across assets lending to the practicality of the investment. "
   ]
  },
  {
   "cell_type": "markdown",
   "metadata": {},
   "source": [
    "![](MaxSharpeRatioOptmzn_Fig3.png)\n",
    "<h4 align=\"center\">Fig.3  Optimal Asset Allocation by SciPy's  minimize solver</h4>   "
   ]
  },
  {
   "cell_type": "markdown",
   "metadata": {},
   "source": [
    "![](MaxSharpeRatioOptmzn_Fig4.png)\n",
    "<h4 align =\"center\">Fig.4  Optimal Asset Allocation by VitaOptimum Plus's  Ccs solver </h4>"
   ]
  },
  {
   "cell_type": "markdown",
   "metadata": {},
   "source": [
    "### 9. Conclusion"
   ]
  },
  {
   "cell_type": "markdown",
   "metadata": {},
   "source": [
    "SciPy solver indeed yields a unique and distinct optimal portfolio that reports maximal Sharpe Ratio. However, VitaOptimum Plus driven by heuristics, not just delivers multiple optimal solutions that can cater to the risk appetites or preferences of the investors, but also quality portfolios that are less risky, better diversified and well distributed. "
   ]
  },
  {
   "cell_type": "markdown",
   "metadata": {},
   "source": [
    "### Companion Reading  "
   ]
  },
  {
   "cell_type": "markdown",
   "metadata": {},
   "source": [
    "#### Lesson 1 Fundamentals of Risk and Return of a portfolio\n",
    "https://github.com/PaiViji/PythonFinance-PortfolioOptimization/blob/master/Lesson1_FundaRiskReturnPortfolio/Lesson1_MainContent.ipynb\n",
    "#### Lesson 3 Heuristic Portfolio Selection\n",
    "https://github.com/PaiViji/PythonFinance-PortfolioOptimization/blob/master/Lesson3_HeuristicPortfolioSelection/Lesson3_MainContent.ipynb\n",
    "#### Lesson 5 Mean Variance Optimization Model\n",
    "https://github.com/PaiViji/PythonFinance-PortfolioOptimization/blob/master/Lesson5_MeanVarianceOptimization/Lesson5_MainContent.ipynb"
   ]
  },
  {
   "cell_type": "markdown",
   "metadata": {},
   "source": [
    "<h3 align=\"left\">References</h3> \n",
    "[CHO 08]   Choueifaty Yves and  Y Coignard, Toward Maximum Diversification, *The Journal of  Portfolio Management*, pp. 40-51, 2008.\n",
    "\n",
    "[CHO 13]   Choueifaty  Yves, T Froidure and J Reynier, Properties of the Most Diversified Portfolio, *Journal of Investment Strategies*, 2(2), pp. 49-70, 2013.  \n",
    " \n",
    "[SHA 66]  Sharpe, William F. Mutual Fund Performance,  *Journal of Business*, January 1966, pp. 119-138.\n",
    "\n",
    "[PAI 18]   Vijayalakshmi Pai G. A., Metaheuristics for Portfolio Optimization- An Introduction using MATLAB, Wiley-ISTE, 2018. https://www.mathworks.com/academia/books/metaheuristics-for-portfolio-optimization-pai.html\n",
    "\n",
    "[VIT, 2019]  http://skyworkflows.com/wp-content/uploads/2019/07/VitaOptimum-by-SkyWorkflows-small.pdf.\n",
    "\n",
    "\n"
   ]
  },
  {
   "cell_type": "code",
   "execution_count": null,
   "metadata": {},
   "outputs": [],
   "source": []
  }
 ],
 "metadata": {
  "kernelspec": {
   "display_name": "Python 3",
   "language": "python",
   "name": "python3"
  },
  "language_info": {
   "codemirror_mode": {
    "name": "ipython",
    "version": 3
   },
   "file_extension": ".py",
   "mimetype": "text/x-python",
   "name": "python",
   "nbconvert_exporter": "python",
   "pygments_lexer": "ipython3",
   "version": "3.7.3"
  }
 },
 "nbformat": 4,
 "nbformat_minor": 2
}
